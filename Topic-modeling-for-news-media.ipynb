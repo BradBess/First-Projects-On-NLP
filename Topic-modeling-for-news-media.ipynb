{
 "cells": [
  {
   "cell_type": "markdown",
   "metadata": {
    "id": "wuBDlGxREVUO"
   },
   "source": [
    "#Topic modeling\n",
    "This code contains the training of a topic model based on news media. \n",
    "Two relevant news media are compared based on the topics they write about.\n",
    "Pre-processing steps are described and explained in the code.\n",
    "The news media can be found in the column 'netloc'.\n",
    "\n"
   ]
  },
  {
   "cell_type": "markdown",
   "metadata": {
    "id": "cetSuCpLhm--"
   },
   "source": [
    "! Prior note: I used Google Colab to answer this question.\n",
    "              This code has been constructed as a learning exercise."
   ]
  },
  {
   "cell_type": "markdown",
   "metadata": {
    "id": "pWPpR6tSXz2N"
   },
   "source": [
    "Definition of the goal: compare topic proportions between two news media. \n",
    "\n",
    "This coding is guided by: https://jveerbeek.gitlab.io/data-mining/index.html"
   ]
  },
  {
   "cell_type": "code",
   "execution_count": null,
   "metadata": {
    "colab": {
     "base_uri": "https://localhost:8080/",
     "height": 1000
    },
    "id": "zVTboa17WqtN",
    "outputId": "ec3e27bf-137d-44f0-e25c-dcb042bc369c"
   },
   "outputs": [
    {
     "data": {
      "text/html": [
       "<div>\n",
       "<style scoped>\n",
       "    .dataframe tbody tr th:only-of-type {\n",
       "        vertical-align: middle;\n",
       "    }\n",
       "\n",
       "    .dataframe tbody tr th {\n",
       "        vertical-align: top;\n",
       "    }\n",
       "\n",
       "    .dataframe thead th {\n",
       "        text-align: right;\n",
       "    }\n",
       "</style>\n",
       "<table border=\"1\" class=\"dataframe\">\n",
       "  <thead>\n",
       "    <tr style=\"text-align: right;\">\n",
       "      <th></th>\n",
       "      <th>tweet_id</th>\n",
       "      <th>date</th>\n",
       "      <th>user</th>\n",
       "      <th>party</th>\n",
       "      <th>state</th>\n",
       "      <th>chamber</th>\n",
       "      <th>tweet</th>\n",
       "      <th>news_mention</th>\n",
       "      <th>url_reference</th>\n",
       "      <th>netloc</th>\n",
       "      <th>title</th>\n",
       "      <th>description</th>\n",
       "      <th>label</th>\n",
       "    </tr>\n",
       "  </thead>\n",
       "  <tbody>\n",
       "    <tr>\n",
       "      <th>0</th>\n",
       "      <td>1325914751495499776</td>\n",
       "      <td>2020-11-09 21:34:45</td>\n",
       "      <td>SenShelby</td>\n",
       "      <td>R</td>\n",
       "      <td>Alabama</td>\n",
       "      <td>Senator</td>\n",
       "      <td>ICYMI – @BusinessInsider declared #Huntsville ...</td>\n",
       "      <td>businessinsider</td>\n",
       "      <td>https://www.businessinsider.com/personal-finan...</td>\n",
       "      <td>www.businessinsider.com</td>\n",
       "      <td>The 10 best US cities to move to if you want t...</td>\n",
       "      <td>The best US cities to move to if you want to s...</td>\n",
       "      <td></td>\n",
       "    </tr>\n",
       "    <tr>\n",
       "      <th>1</th>\n",
       "      <td>1294021087118987264</td>\n",
       "      <td>2020-08-13 21:20:43</td>\n",
       "      <td>SenShelby</td>\n",
       "      <td>R</td>\n",
       "      <td>Alabama</td>\n",
       "      <td>Senator</td>\n",
       "      <td>Great news! Today @mazda_toyota announced an a...</td>\n",
       "      <td></td>\n",
       "      <td>https://pressroom.toyota.com/mazda-and-toyota-...</td>\n",
       "      <td>pressroom.toyota.com</td>\n",
       "      <td>Mazda and Toyota Further Commitment to U.S. Ma...</td>\n",
       "      <td>HUNTSVILLE, Ala., (Aug. 13, 2020) – Today, Maz...</td>\n",
       "      <td></td>\n",
       "    </tr>\n",
       "    <tr>\n",
       "      <th>2</th>\n",
       "      <td>1323340848130609156</td>\n",
       "      <td>2020-11-02 19:06:59</td>\n",
       "      <td>DougJones</td>\n",
       "      <td>D</td>\n",
       "      <td>Alabama</td>\n",
       "      <td>Senator</td>\n",
       "      <td>He’s already quitting on the folks of Alabama ...</td>\n",
       "      <td></td>\n",
       "      <td>https://apnews.com/article/c73f0dfe8008ebaf85e...</td>\n",
       "      <td>apnews.com</td>\n",
       "      <td>Tuberville, Jones fight for Senate seat in Ala...</td>\n",
       "      <td>GARDENDALE, Ala. (AP) — U.S. Sen. Doug Jones, ...</td>\n",
       "      <td></td>\n",
       "    </tr>\n",
       "    <tr>\n",
       "      <th>3</th>\n",
       "      <td>1323004075831709698</td>\n",
       "      <td>2020-11-01 20:48:46</td>\n",
       "      <td>DougJones</td>\n",
       "      <td>D</td>\n",
       "      <td>Alabama</td>\n",
       "      <td>Senator</td>\n",
       "      <td>I know you guys are getting bombarded with fun...</td>\n",
       "      <td></td>\n",
       "      <td>https://secure.actblue.com/donate/djfs-close?r...</td>\n",
       "      <td>secure.actblue.com</td>\n",
       "      <td>I just gave!</td>\n",
       "      <td>Join us! Contribute today.</td>\n",
       "      <td>negiotated</td>\n",
       "    </tr>\n",
       "    <tr>\n",
       "      <th>4</th>\n",
       "      <td>1322567531320717314</td>\n",
       "      <td>2020-10-31 15:54:06</td>\n",
       "      <td>DougJones</td>\n",
       "      <td>D</td>\n",
       "      <td>Alabama</td>\n",
       "      <td>Senator</td>\n",
       "      <td>Well looky here folks, his own players don’t t...</td>\n",
       "      <td></td>\n",
       "      <td>https://slate.com/culture/2020/10/tommy-tuberv...</td>\n",
       "      <td>slate.com</td>\n",
       "      <td>What Tommy Tuberville’s Former Auburn Players ...</td>\n",
       "      <td>\"All I could think is, why?\"</td>\n",
       "      <td></td>\n",
       "    </tr>\n",
       "    <tr>\n",
       "      <th>...</th>\n",
       "      <td>...</td>\n",
       "      <td>...</td>\n",
       "      <td>...</td>\n",
       "      <td>...</td>\n",
       "      <td>...</td>\n",
       "      <td>...</td>\n",
       "      <td>...</td>\n",
       "      <td>...</td>\n",
       "      <td>...</td>\n",
       "      <td>...</td>\n",
       "      <td>...</td>\n",
       "      <td>...</td>\n",
       "      <td>...</td>\n",
       "    </tr>\n",
       "    <tr>\n",
       "      <th>30803</th>\n",
       "      <td>1305999044196675584</td>\n",
       "      <td>2020-09-15 22:36:51</td>\n",
       "      <td>Liz_Cheney</td>\n",
       "      <td>R</td>\n",
       "      <td>Wyoming At-Large</td>\n",
       "      <td>U.S. Representative</td>\n",
       "      <td>EXCLUSIVE: Liz Cheney Asks The DOJ To Investig...</td>\n",
       "      <td></td>\n",
       "      <td>https://dailycaller.com/2020/09/15/liz-cheney-...</td>\n",
       "      <td>dailycaller.com</td>\n",
       "      <td>EXCLUSIVE: Liz Cheney Asks The DOJ To Investig...</td>\n",
       "      <td>Rep. Cheney asked the DOJ to probe whether Rus...</td>\n",
       "      <td></td>\n",
       "    </tr>\n",
       "    <tr>\n",
       "      <th>30804</th>\n",
       "      <td>1301257687049687041</td>\n",
       "      <td>2020-09-02 20:36:23</td>\n",
       "      <td>Liz_Cheney</td>\n",
       "      <td>R</td>\n",
       "      <td>Wyoming At-Large</td>\n",
       "      <td>U.S. Representative</td>\n",
       "      <td>Hairpocrisy!\\n#PelosiBlowout \\n\\nNancy Pelosi ...</td>\n",
       "      <td></td>\n",
       "      <td>https://www.washingtontimes.com/news/2020/sep/...</td>\n",
       "      <td>www.washingtontimes.com</td>\n",
       "      <td>Nancy Pelosi says she was ‘set up’ by San Fran...</td>\n",
       "      <td>House Speaker Nancy Pelosi said she was “set u...</td>\n",
       "      <td></td>\n",
       "    </tr>\n",
       "    <tr>\n",
       "      <th>30805</th>\n",
       "      <td>1296922209890574337</td>\n",
       "      <td>2020-08-21 21:28:45</td>\n",
       "      <td>Liz_Cheney</td>\n",
       "      <td>R</td>\n",
       "      <td>Wyoming At-Large</td>\n",
       "      <td>U.S. Representative</td>\n",
       "      <td>RT @Kredo0: JUST IN: Congressional Republicans...</td>\n",
       "      <td></td>\n",
       "      <td>https://freebeacon.com/national-security/congr...</td>\n",
       "      <td>freebeacon.com</td>\n",
       "      <td>Congressional Republicans Praise Trump Admin B...</td>\n",
       "      <td>A delegation of Republicans in the House and S...</td>\n",
       "      <td></td>\n",
       "    </tr>\n",
       "    <tr>\n",
       "      <th>30806</th>\n",
       "      <td>1296082124970180613</td>\n",
       "      <td>2020-08-19 13:50:33</td>\n",
       "      <td>Liz_Cheney</td>\n",
       "      <td>R</td>\n",
       "      <td>Wyoming At-Large</td>\n",
       "      <td>U.S. Representative</td>\n",
       "      <td>Liz Cheney slams John Kerry's DNC remarks: Sur...</td>\n",
       "      <td></td>\n",
       "      <td>https://www.foxnews.com/politics/liz-cheney-jo...</td>\n",
       "      <td>www.foxnews.com</td>\n",
       "      <td>Liz Cheney slams John Kerry's DNC remarks: Sur...</td>\n",
       "      <td>It is surprising that the Democratic National ...</td>\n",
       "      <td></td>\n",
       "    </tr>\n",
       "    <tr>\n",
       "      <th>30807</th>\n",
       "      <td>1295913277621284864</td>\n",
       "      <td>2020-08-19 02:39:36</td>\n",
       "      <td>Liz_Cheney</td>\n",
       "      <td>R</td>\n",
       "      <td>Wyoming At-Large</td>\n",
       "      <td>U.S. Representative</td>\n",
       "      <td>Thank you, Wyoming. Honored by your support - ...</td>\n",
       "      <td>AP_Politics</td>\n",
       "      <td>https://apnews.com/Election2020</td>\n",
       "      <td>apnews.com</td>\n",
       "      <td>Election 2020</td>\n",
       "      <td>News from The Associated Press, the definitive...</td>\n",
       "      <td></td>\n",
       "    </tr>\n",
       "  </tbody>\n",
       "</table>\n",
       "<p>23448 rows × 13 columns</p>\n",
       "</div>"
      ],
      "text/plain": [
       "                  tweet_id  ...       label\n",
       "0      1325914751495499776  ...            \n",
       "1      1294021087118987264  ...            \n",
       "2      1323340848130609156  ...            \n",
       "3      1323004075831709698  ...  negiotated\n",
       "4      1322567531320717314  ...            \n",
       "...                    ...  ...         ...\n",
       "30803  1305999044196675584  ...            \n",
       "30804  1301257687049687041  ...            \n",
       "30805  1296922209890574337  ...            \n",
       "30806  1296082124970180613  ...            \n",
       "30807  1295913277621284864  ...            \n",
       "\n",
       "[23448 rows x 13 columns]"
      ]
     },
     "execution_count": 6,
     "metadata": {},
     "output_type": "execute_result"
    }
   ],
   "source": [
    "#load data\n",
    "import pickle\n",
    "import pandas as pd\n",
    "\n",
    "df = pd.read_pickle(\"framing.p\")\n",
    "df\n"
   ]
  },
  {
   "cell_type": "code",
   "execution_count": null,
   "metadata": {
    "colab": {
     "base_uri": "https://localhost:8080/"
    },
    "id": "fsr2akMygqJ_",
    "outputId": "b06f522a-6399-45f2-d069-8ca5e50442ae"
   },
  
   "source": [
    "#Install the Gensim package for Google Colab\n",
    "#We need this to be able to run the LDA model later on\n",
    "import os   \n",
    "\n",
    "!pip uninstall gensim\n",
    "!pip install gensim==3.8.3\n",
    "\n",
    "def install_java():\n",
    "  !apt-get install -y openjdk-8-jdk-headless -qq > /dev/null      \n",
    "  os.environ[\"JAVA_HOME\"] = \"/usr/lib/jvm/java-8-openjdk-amd64\"    \n",
    "  !java -version\n",
    "install_java()\n",
    "\n",
    "\n",
    "!wget http://mallet.cs.umass.edu/dist/mallet-2.0.8.zip\n",
    "!unzip mallet-2.0.8.zip\n",
    "\n",
    "!python -m spacy download nl_core_news_sm\n"
   ]
  },
  {
   "cell_type": "markdown",
   "metadata": {
    "id": "VZdZIjnULwnt"
   },
   "source": [
    "\n",
    "It’s important to have enough meaningful data. Therefore I value the amount of values for each news media. \n"
   ]
  },
  {
   "cell_type": "code",
   "execution_count": null,
   "metadata": {
    "colab": {
     "base_uri": "https://localhost:8080/"
    },
    "id": "zkwptjHBHK68",
    "outputId": "ad33c93e-90cb-4cbb-b27c-2e0b6e28c2f1"
   },
   "outputs": [
    {
     "name": "stdout",
     "output_type": "stream",
     "text": [
      "www.nytimes.com     1508\n",
      "                    1092\n",
      "www.politico.com     623\n",
      "www.cnn.com          602\n",
      "thehill.com          550\n",
      "Name: netloc, dtype: int64\n"
     ]
    }
   ],
   "source": [
    "#news media to compare\n",
    "#show the news media with the most news articles to compare\n",
    "nr_post_new_media = df.netloc.value_counts()\n",
    "print(nr_post_new_media.head())"
   ]
  },
  {
   "cell_type": "markdown",
   "metadata": {
    "id": "kM9bVAv_JOPc"
   },
   "source": [
    "One of the top 5 options appeared to be empty/unknown. Therefore I looked at four different news media. "
   ]
  },
  {
   "cell_type": "code",
   "execution_count": null,
   "metadata": {
    "id": "6FPgyC4fsThd"
   },
   "outputs": [],
   "source": [
    "#Create a subsets for each of the news media\n",
    "nytimes = df[(df.netloc==\"www.nytimes.com\")]\n",
    "politico = df[(df.netloc==\"www.politico.com\")]\n",
    "cnn = df[(df.netloc==\"www.cnn.com\")]\n",
    "thehill = df[(df.netloc==\"thehill.com\")]"
   ]
  },
  {
   "cell_type": "code",
   "execution_count": null,
   "metadata": {
    "colab": {
     "base_uri": "https://localhost:8080/",
     "height": 280
    },
    "id": "-7q7_Ufeq8jd",
    "outputId": "23e1b464-5536-4701-c7ca-8bb364d2b561"
   },
   "outputs": [
    {
     "data": {
      "text/plain": [
       "<matplotlib.axes._subplots.AxesSubplot at 0x7fbf62455f90>"
      ]
     },
     "execution_count": 10,
     "metadata": {},
     "output_type": "execute_result"
    },
    {
     "data": {
      "image/png": "[encoded data removed]",
      "text/plain": [
       "<Figure size 432x288 with 1 Axes>"
      ]
     },
     "metadata": {
      "needs_background": "light"
     },
     "output_type": "display_data"
    }
   ],
   "source": [
    "#distribution of post over political parties\n",
    "import pandas as pd\n",
    "df['party'].value_counts().plot(kind='bar')\n"
   ]
  },
  {
   "cell_type": "code",
   "execution_count": null,
   "metadata": {
    "colab": {
     "base_uri": "https://localhost:8080/",
     "height": 280
    },
    "id": "uoVGKrCqrd4e",
    "outputId": "cd8dbe66-7e54-4ed1-dd4a-ab31dc0cf838"
   },
   "outputs": [
    {
     "data": {
      "text/plain": [
       "<matplotlib.axes._subplots.AxesSubplot at 0x7f9fa9812390>"
      ]
     },
     "execution_count": 38,
     "metadata": {},
     "output_type": "execute_result"
    },
    {
     "data": {
      "image/png": "[encoded data removed]",
      "text/plain": [
       "<Figure size 432x288 with 1 Axes>"
      ]
     },
     "metadata": {
      "needs_background": "light"
     },
     "output_type": "display_data"
    }
   ],
   "source": [
    "nytimes['party'].value_counts().plot(kind='bar')"
   ]
  },
  {
   "cell_type": "code",
   "execution_count": null,
   "metadata": {
    "colab": {
     "base_uri": "https://localhost:8080/",
     "height": 280
    },
    "id": "-UjCrm4ftelO",
    "outputId": "8de21e21-a025-452e-bbb4-c122a36dbcf7"
   },
   "outputs": [
    {
     "data": {
      "text/plain": [
       "<matplotlib.axes._subplots.AxesSubplot at 0x7f9fa9854cd0>"
      ]
     },
     "execution_count": 39,
     "metadata": {},
     "output_type": "execute_result"
    },
    {
     "data": {
      "image/png": "[encoded data removed]",
      "text/plain": [
       "<Figure size 432x288 with 1 Axes>"
      ]
     },
     "metadata": {
      "needs_background": "light"
     },
     "output_type": "display_data"
    }
   ],
   "source": [
    "politico['party'].value_counts().plot(kind='bar')"
   ]
  },
  {
   "cell_type": "code",
   "execution_count": null,
   "metadata": {
    "colab": {
     "base_uri": "https://localhost:8080/",
     "height": 280
    },
    "id": "HUSAYXT4tqEN",
    "outputId": "b046fa6e-7600-4c1a-fc09-8b4981d66856"
   },
   "outputs": [
    {
     "data": {
      "text/plain": [
       "<matplotlib.axes._subplots.AxesSubplot at 0x7f9fa924ed50>"
      ]
     },
     "execution_count": 40,
     "metadata": {},
     "output_type": "execute_result"
    },
    {
     "data": {
      "image/png": "[encoded data removed]",
      "text/plain": [
       "<Figure size 432x288 with 1 Axes>"
      ]
     },
     "metadata": {
      "needs_background": "light"
     },
     "output_type": "display_data"
    }
   ],
   "source": [
    "cnn['party'].value_counts().plot(kind='bar')"
   ]
  },
  {
   "cell_type": "code",
   "execution_count": null,
   "metadata": {
    "colab": {
     "base_uri": "https://localhost:8080/",
     "height": 280
    },
    "id": "paT_KM61tva1",
    "outputId": "34835167-ad8d-4f1c-fdbf-f1e841fc2fad"
   },
   "outputs": [
    {
     "data": {
      "text/plain": [
       "<matplotlib.axes._subplots.AxesSubplot at 0x7f9fa9247750>"
      ]
     },
     "execution_count": 41,
     "metadata": {},
     "output_type": "execute_result"
    },
    {
     "data": {
      "image/png": "[encoded data removed]",
      "text/plain": [
       "<Figure size 432x288 with 1 Axes>"
      ]
     },
     "metadata": {
      "needs_background": "light"
     },
     "output_type": "display_data"
    }
   ],
   "source": [
    "thehill['party'].value_counts().plot(kind='bar')"
   ]
  },
  {
   "cell_type": "markdown",
   "metadata": {
    "id": "kCAf7l81Hi11"
   },
   "source": [
    "#Motivation of the two news media\n",
    "\n",
    "It’s important to have enough meaningful data. Therefore I value the amount of values for each news media. \n",
    "\n",
    "For this analysis I assume that parties refer to news sources that underline their ideals. Therefore I choose the media which is popular in relation to republicans (the hill) and one which is most popular to the democrats(nytimes). I expect that the topics they talk about will be quite similar.\n",
    "\n"
   ]
  },
  {
   "cell_type": "code",
   "execution_count": null,
   "metadata": {
    "colab": {
     "base_uri": "https://localhost:8080/",
     "height": 121,
     "referenced_widgets": [
      "e4848f667b1f4f0287f09e79f37495f9",
      "ef9335d76df64cb38796597433952a06",
      "d96498341bbd4aa39f69129dfa99d180",
      "3b584b22cb984d9aaaf836801e9aab18",
      "a0c9634f602943e481025cfcbff78c62",
      "8aced2ada4c34b9cbd6f4b7c770d59ea",
      "b9e7e7372689462db7935c90083fee9d",
      "15cdad3172814c138784a3fc1270ba3f",
      "62de8650ec7248b79d35634fb247ffbb",
      "c726b5717acf41af92568d8d62bd4f6e",
      "bbb426c3bdb044a18db147b2ac55468a"
     ]
    },
    "id": "VyxXmDbPw_gC",
    "outputId": "4734de9d-1c30-48a8-8fdb-b4b62dd34253"
   },
   "outputs": [
    {
     "name": "stderr",
     "output_type": "stream",
     "text": [
      "/usr/local/lib/python3.7/dist-packages/ipykernel_launcher.py:12: TqdmDeprecationWarning: This function will be removed in tqdm==5.0.0\n",
      "Please use `tqdm.notebook.tqdm` instead of `tqdm.tqdm_notebook`\n",
      "  if sys.path[0] == '':\n"
     ]
    },
    {
     "data": {
      "application/vnd.jupyter.widget-view+json": {
       "model_id": "e4848f667b1f4f0287f09e79f37495f9",
       "version_major": 2,
       "version_minor": 0
      },
      "text/plain": [
       "  0%|          | 0/23448 [00:00<?, ?it/s]"
      ]
     },
     "metadata": {},
     "output_type": "display_data"
    }
   ],
   "source": [
    "from tqdm import tqdm_notebook\n",
    "import spacy\n",
    "# process the values in the description column of our dataframe\n",
    "#Otherwise the computer will show that string/series objects do not have a position. \n",
    "posts = df.description.values\n",
    "nlp = spacy.load(\"en_core_web_sm\")\n",
    "processed_texts = [text for text in tqdm_notebook(nlp.pipe(posts, \n",
    "                                              n_process=-1, \n",
    "                                              disable=[\"ner\",\n",
    "                                                       \"parser\"]),\n",
    "                                          total=len(posts\n",
    "                                                   ))]"
   ]
  },
  {
   "cell_type": "code",
   "execution_count": null,
   "metadata": {
    "id": "REhJrhCDBGLy"
   },
   "outputs": [],
   "source": [
    "df['processed_texts'] = processed_texts"
   ]
  },
  {
   "cell_type": "code",
   "execution_count": null,
   "metadata": {
    "colab": {
     "base_uri": "https://localhost:8080/"
    },
    "id": "WbjGg7vOG3h1",
    "outputId": "cd0d5d17-8a36-432e-c8aa-767d667ef36b"
   },
   "outputs": [
    {
     "name": "stderr",
     "output_type": "stream",
     "text": [
      "IOPub data rate exceeded.\n",
      "The notebook server will temporarily stop sending output\n",
      "to the client in order to avoid crashing it.\n",
      "To change this limit, set the config variable\n",
      "`--NotebookApp.iopub_data_rate_limit`.\n",
      "\n",
      "Current values:\n",
      "NotebookApp.iopub_data_rate_limit=1000000.0 (bytes/sec)\n",
      "NotebookApp.rate_limit_window=3.0 (secs)\n",
      "\n"
     ]
    }
   ],
   "source": [
    "#pre-processing steps\n",
    "#we can compare the chosen news media nytimes and thehill later on\n",
    "tokenized_text = [[word.lemma_.lower() for word in processed_texts if word.pos_ == 'VERB' or word.pos == \"ADJ\" or word.pos_ == \"NOUN\" or word.pos_ == \"PROPN\" or word.pos_==\"NUM\"] for processed_texts in processed_texts]\n"
   ]
  },
  {
   "cell_type": "markdown",
   "metadata": {
    "id": "tpFRlXZeHYf8"
   },
   "source": [
    "#Explaination pre-processing sets + parameters:\n",
    "\n",
    "\n",
    "<table>\n",
    "  <tr>\n",
    "    <th>Pre-processing technique</th>\n",
    "    <th>Include</th>\n",
    "    <th>Reason</th>\n",
    "  </tr>\n",
    "  <tr>\n",
    "    <td>Tokenization</td>\n",
    "    <td>Yes</td>\n",
    "    <td>convert strings to a list of tokens for the computer to understand the text.</td>\n",
    "  </tr>\n",
    "  <tr>\n",
    "    <td>Lemmatization/stemming</td>\n",
    "    <td>Yes</td>\n",
    "    <td> lemmatization considers the context and coverts the words to its base while keeping the meaning. </td>\n",
    "  </tr>\n",
    "  <tr>\n",
    "    <td>Lowercasing text</td>\n",
    "    <td>Yes</td>\n",
    "    <td> increases word consistency </td>\n",
    "  </tr>\n",
    "  <tr>\n",
    "    <td>Stop word removal</td>\n",
    "    <td>No</td>\n",
    "    <td>I choose word type filtering instead, for more control on the type of words that go into the model</td>\n",
    "  </tr>\n",
    "  <tr>\n",
    "    <td>Word type filtering</td>\n",
    "    <td>Yes</td>\n",
    "    <td> Included word types: <br> \n",
    "    * names (PROPN), include names of politicians\n",
    "    <br>\n",
    "    * verbs (VERB) and adjectives (ADJ), emotive words that say a lot about the meaning of the text.\n",
    "    <br>\n",
    "    * numbers (NUM), say something about the impact of the text.\n",
    "    <br>\n",
    "    * nouns (NOUN), good indicators of topics (words that depend on themselves)\n",
    "    <br>\n",
    "    <br>\n",
    "    Excluded word types would add noise to the model instead of meaning.\n",
    "    </td>\n",
    "  </tr>\n",
    "  <tr>\n",
    "    <td>Sentence splitting</td>\n",
    "    <td>No</td>\n",
    "    <td>I used word tokens</td>\n",
    "  </tr>\n",
    "  <tr>\n",
    "    <td>Flattening</td>\n",
    "    <td>No</td>\n",
    "    <td>The LDA model can work with nested lists</td>\n",
    "  </tr>\n"
   ]
  },
  {
   "cell_type": "code",
   "execution_count": null,
   "metadata": {
    "id": "u6_N1Y__Fz_p"
   },
   "outputs": [],
   "source": [
    "from gensim.corpora import Dictionary\n",
    "\n",
    "#set a minimum document frequency\n",
    "MIN_DF = 1 #words need to occur at least once in a document\n",
    "#set a maximum document frequency\n",
    "MAX_DF = 0.9 #words have to occur in less then 90 procents of the documents in order to be included\n",
    "\n",
    "#create a corpus for the LDA model nytimes\n",
    "\n",
    "#get the vocabulary\n",
    "dictionary = Dictionary(tokenized_text) \n",
    "#fitler the extremes\n",
    "dictionary.filter_extremes(no_below=MIN_DF, \n",
    "                           no_above=MAX_DF)\n",
    "corpus = [dictionary.doc2bow(text) for text in tokenized_text]\n"
   ]
  },
  {
   "cell_type": "code",
   "execution_count": null,
   "metadata": {
    "id": "Qzag7tk1EF51"
   },
   "outputs": [],
   "source": [
    "#train topic model for nytimes using LDA\n",
    "#I will choose different numbers of k and then decide based on the highest likelyhood\n",
    "from gensim.models.wrappers import LdaMallet\n",
    "\n",
    "PATH_TO_MALLET = '/content/mallet-2.0.8/bin/mallet'\n",
    "\n",
    "N_TOPICS = 50 # k\n",
    "N_ITERATIONS = 1000\n",
    "\n",
    "lda = LdaMallet(PATH_TO_MALLET,\n",
    "                corpus=corpus,\n",
    "                id2word=dictionary,\n",
    "                num_topics=N_TOPICS,\n",
    "                optimize_interval=10,\n",
    "                iterations=N_ITERATIONS)"
   ]
  },
  {
   "cell_type": "code",
   "execution_count": null,
   "metadata": {
    "colab": {
     "base_uri": "https://localhost:8080/"
    },
    "id": "aukRD0jQAE0K",
    "outputId": "aac6b419-00cc-41ec-ad2a-f5321d49cea3"
   },
   "outputs": [
    {
     "data": {
      "text/plain": [
       "[('support', 0.03480783176214648),\n",
       " ('veteran', 0.025138989605994682),\n",
       " ('provide', 0.023205221174764323),\n",
       " ('resource', 0.021271452743533963),\n",
       " ('crisis', 0.020546289581822575),\n",
       " ('click', 0.019579405366207395),\n",
       " ('el', 0.019095963258399806),\n",
       " ('connect', 0.018129079042784626),\n",
       " ('paso', 0.015228426395939087),\n",
       " ('call', 0.015228426395939087)]"
      ]
     },
     "execution_count": 41,
     "metadata": {},
     "output_type": "execute_result"
    }
   ],
   "source": [
    "TOPIC = 0\n",
    "MAX_WORDS = 10\n",
    "words_50 = lda.show_topic (TOPIC,  topn=MAX_WORDS)\n",
    "words_50"
   ]
  },
  {
   "cell_type": "code",
   "execution_count": null,
   "metadata": {
    "id": "SPEcwKWdFbdp"
   },
   "outputs": [],
   "source": [
    "#train topic model for nytimes using LDA - k = 100\n",
    "from gensim.models.wrappers import LdaMallet\n",
    "\n",
    "PATH_TO_MALLET = '/content/mallet-2.0.8/bin/mallet'\n",
    "\n",
    "N_TOPICS = 100 # k\n",
    "N_ITERATIONS = 1000 \n",
    "\n",
    "lda = LdaMallet(PATH_TO_MALLET,\n",
    "                corpus=corpus,\n",
    "                id2word=dictionary,\n",
    "                num_topics=N_TOPICS,\n",
    "                optimize_interval=10,\n",
    "                iterations=N_ITERATIONS)"
   ]
  },
  {
   "cell_type": "code",
   "execution_count": null,
   "metadata": {
    "colab": {
     "base_uri": "https://localhost:8080/"
    },
    "id": "7x9OzUvfFcQD",
    "outputId": "5cfdd86f-3c94-4496-fc02-815e6aee4d84"
   },
   "outputs": [
    {
     "data": {
      "text/plain": [
       "[('trump', 0.06235912847483095),\n",
       " ('president', 0.049586776859504134),\n",
       " ('woodward', 0.04658151765589782),\n",
       " ('book', 0.04583020285499624),\n",
       " ('bob', 0.04357625845229151),\n",
       " ('donald', 0.03831705484598046),\n",
       " ('accord', 0.03681442524417731),\n",
       " ('journalist', 0.03606311044327573),\n",
       " ('coronavirus', 0.033809166040571),\n",
       " ('week', 0.03305785123966942)]"
      ]
     },
     "execution_count": 18,
     "metadata": {},
     "output_type": "execute_result"
    }
   ],
   "source": [
    "TOPIC = 0\n",
    "MAX_WORDS = 10\n",
    "words_100 = lda.show_topic (TOPIC,  topn=MAX_WORDS)\n",
    "words_100"
   ]
  },
  {
   "cell_type": "code",
   "execution_count": null,
   "metadata": {
    "id": "WmeQBYYjGXWr"
   },
   "outputs": [],
   "source": [
    "#train topic model for nytimes using LDA - k = 200\n",
    "from gensim.models.wrappers import LdaMallet\n",
    "\n",
    "PATH_TO_MALLET = '/content/mallet-2.0.8/bin/mallet'\n",
    "\n",
    "N_TOPICS = 200 # k\n",
    "N_ITERATIONS = 1000 # usually 1000 will do\n",
    "\n",
    "lda = LdaMallet(PATH_TO_MALLET,\n",
    "                corpus=corpus,\n",
    "                id2word=dictionary,\n",
    "                num_topics=N_TOPICS,\n",
    "                optimize_interval=10,\n",
    "                iterations=N_ITERATIONS)"
   ]
  },
  {
   "cell_type": "code",
   "execution_count": null,
   "metadata": {
    "colab": {
     "base_uri": "https://localhost:8080/"
    },
    "id": "68-VpqTKGZ58",
    "outputId": "785e8dd0-ba96-4d5d-f7c5-4ba5a110cbdb"
   },
   "outputs": [
    {
     "data": {
      "text/plain": [
       "[('remove', 0.044642857142857144),\n",
       " ('proposal', 0.03720238095238095),\n",
       " ('market', 0.026785714285714284),\n",
       " ('check', 0.023809523809523808),\n",
       " ('exist', 0.022321428571428572),\n",
       " ('times', 0.022321428571428572),\n",
       " ('commissioner', 0.022321428571428572),\n",
       " ('york', 0.022321428571428572),\n",
       " ('dismiss', 0.020833333333333332),\n",
       " ('dementia', 0.020833333333333332)]"
      ]
     },
     "execution_count": 44,
     "metadata": {},
     "output_type": "execute_result"
    }
   ],
   "source": [
    "TOPIC = 0\n",
    "MAX_WORDS = 10\n",
    "words_200 = lda.show_topic (TOPIC,  topn=MAX_WORDS)\n",
    "words_200"
   ]
  },
  {
   "cell_type": "code",
   "execution_count": null,
   "metadata": {
    "id": "ty2pmPZGLYKz"
   },
   "outputs": [],
   "source": [
    "#train topic model for nytimes using LDA - k= 500\n",
    "from gensim.models.wrappers import LdaMallet\n",
    "\n",
    "PATH_TO_MALLET = '/content/mallet-2.0.8/bin/mallet'\n",
    "\n",
    "N_TOPICS = 500 # k\n",
    "N_ITERATIONS = 1000 # usually 1000 will do\n",
    "\n",
    "lda = LdaMallet(PATH_TO_MALLET,\n",
    "                corpus=corpus,\n",
    "                id2word=dictionary,\n",
    "                num_topics=N_TOPICS,\n",
    "                optimize_interval=10,\n",
    "                iterations=N_ITERATIONS)"
   ]
  },
  {
   "cell_type": "code",
   "execution_count": null,
   "metadata": {
    "colab": {
     "base_uri": "https://localhost:8080/"
    },
    "id": "-a5VG4AYLad7",
    "outputId": "8d706e02-690a-4643-917f-0ebed31ff3ce"
   },
   "outputs": [
    {
     "data": {
      "text/plain": [
       "[('center', 0.09205020920502092),\n",
       " ('medical', 0.05439330543933055),\n",
       " ('walter', 0.03138075313807531),\n",
       " ('hospital', 0.029288702928870293),\n",
       " ('reed', 0.029288702928870293),\n",
       " ('national', 0.029288702928870293),\n",
       " ('tuesday', 0.02301255230125523),\n",
       " ('jennifer', 0.02092050209205021),\n",
       " ('visit', 0.02092050209205021),\n",
       " ('healthcare', 0.01882845188284519)]"
      ]
     },
     "execution_count": 25,
     "metadata": {},
     "output_type": "execute_result"
    }
   ],
   "source": [
    "TOPIC = 0\n",
    "MAX_WORDS = 10\n",
    "words_500 = lda.show_topic (TOPIC,  topn=MAX_WORDS)\n",
    "words_500"
   ]
  },
  {
   "cell_type": "markdown",
   "metadata": {
    "id": "nlJiCJ62NS7Y"
   },
   "source": [
    "The results between 200 and 500 are not increasing any more. I'm going to try 1000 just to be sure that the likely-hood score does indeed not increase anymore."
   ]
  },
  {
   "cell_type": "code",
   "execution_count": null,
   "metadata": {
    "id": "YOyM_VFjNjuT"
   },
   "outputs": [],
   "source": [
    "#train topic model for nytimes using LDA - k = 1000\n",
    "from gensim.models.wrappers import LdaMallet\n",
    "\n",
    "PATH_TO_MALLET = '/content/mallet-2.0.8/bin/mallet'\n",
    "\n",
    "N_TOPICS = 1000 # k\n",
    "N_ITERATIONS = 1000 # usually 1000 will do\n",
    "\n",
    "lda = LdaMallet(PATH_TO_MALLET,\n",
    "                corpus=corpus,\n",
    "                id2word=dictionary,\n",
    "                num_topics=N_TOPICS,\n",
    "                optimize_interval=10,\n",
    "                iterations=N_ITERATIONS)"
   ]
  },
  {
   "cell_type": "code",
   "execution_count": null,
   "metadata": {
    "colab": {
     "base_uri": "https://localhost:8080/"
    },
    "id": "TYYgYQv8NlKB",
    "outputId": "403dd6a5-eeaa-4e2e-fcb1-3eb441bad73c"
   },
   "outputs": [
    {
     "data": {
      "text/plain": [
       "[('coronavirus', 0.1028169014084507),\n",
       " ('report', 0.0647887323943662),\n",
       " ('million', 0.061971830985915494),\n",
       " ('accord', 0.059154929577464786),\n",
       " ('crisis', 0.057746478873239436),\n",
       " ('republicans', 0.056338028169014086),\n",
       " ('pandemic', 0.056338028169014086),\n",
       " ('job', 0.056338028169014086),\n",
       " ('program', 0.05352112676056338),\n",
       " ('house', 0.05352112676056338)]"
      ]
     },
     "execution_count": 50,
     "metadata": {},
     "output_type": "execute_result"
    }
   ],
   "source": [
    "TOPIC = 0\n",
    "MAX_WORDS = 10\n",
    "words_1000 = lda.show_topic (TOPIC,  topn=MAX_WORDS)\n",
    "words_1000"
   ]
  },
  {
   "cell_type": "markdown",
   "metadata": {
    "id": "RyBB1CAohH5b"
   },
   "source": [
    "The numbers did increase and therefore I will go with a 1000 topics."
   ]
  },
  {
   "cell_type": "code",
   "execution_count": null,
   "metadata": {
    "colab": {
     "base_uri": "https://localhost:8080/",
     "height": 256
    },
    "id": "4bLhLAV3hOyd",
    "outputId": "ae8ebcb5-4a4d-44d1-e7a2-c8ef18641f23"
   },
   "outputs": [
    {
     "data": {
      "text/html": [
       "<div>\n",
       "<style scoped>\n",
       "    .dataframe tbody tr th:only-of-type {\n",
       "        vertical-align: middle;\n",
       "    }\n",
       "\n",
       "    .dataframe tbody tr th {\n",
       "        vertical-align: top;\n",
       "    }\n",
       "\n",
       "    .dataframe thead th {\n",
       "        text-align: right;\n",
       "    }\n",
       "</style>\n",
       "<table border=\"1\" class=\"dataframe\">\n",
       "  <thead>\n",
       "    <tr style=\"text-align: right;\">\n",
       "      <th></th>\n",
       "      <th>topic_0</th>\n",
       "      <th>topic_1</th>\n",
       "      <th>topic_2</th>\n",
       "      <th>topic_3</th>\n",
       "      <th>topic_4</th>\n",
       "      <th>topic_5</th>\n",
       "      <th>topic_6</th>\n",
       "      <th>topic_7</th>\n",
       "      <th>topic_8</th>\n",
       "      <th>topic_9</th>\n",
       "      <th>topic_10</th>\n",
       "      <th>topic_11</th>\n",
       "      <th>topic_12</th>\n",
       "      <th>topic_13</th>\n",
       "      <th>topic_14</th>\n",
       "      <th>topic_15</th>\n",
       "      <th>topic_16</th>\n",
       "      <th>topic_17</th>\n",
       "      <th>topic_18</th>\n",
       "      <th>topic_19</th>\n",
       "      <th>topic_20</th>\n",
       "      <th>topic_21</th>\n",
       "      <th>topic_22</th>\n",
       "      <th>topic_23</th>\n",
       "      <th>topic_24</th>\n",
       "      <th>topic_25</th>\n",
       "      <th>topic_26</th>\n",
       "      <th>topic_27</th>\n",
       "      <th>topic_28</th>\n",
       "      <th>topic_29</th>\n",
       "      <th>topic_30</th>\n",
       "      <th>topic_31</th>\n",
       "      <th>topic_32</th>\n",
       "      <th>topic_33</th>\n",
       "      <th>topic_34</th>\n",
       "      <th>topic_35</th>\n",
       "      <th>topic_36</th>\n",
       "      <th>topic_37</th>\n",
       "      <th>topic_38</th>\n",
       "      <th>topic_39</th>\n",
       "      <th>...</th>\n",
       "      <th>topic_960</th>\n",
       "      <th>topic_961</th>\n",
       "      <th>topic_962</th>\n",
       "      <th>topic_963</th>\n",
       "      <th>topic_964</th>\n",
       "      <th>topic_965</th>\n",
       "      <th>topic_966</th>\n",
       "      <th>topic_967</th>\n",
       "      <th>topic_968</th>\n",
       "      <th>topic_969</th>\n",
       "      <th>topic_970</th>\n",
       "      <th>topic_971</th>\n",
       "      <th>topic_972</th>\n",
       "      <th>topic_973</th>\n",
       "      <th>topic_974</th>\n",
       "      <th>topic_975</th>\n",
       "      <th>topic_976</th>\n",
       "      <th>topic_977</th>\n",
       "      <th>topic_978</th>\n",
       "      <th>topic_979</th>\n",
       "      <th>topic_980</th>\n",
       "      <th>topic_981</th>\n",
       "      <th>topic_982</th>\n",
       "      <th>topic_983</th>\n",
       "      <th>topic_984</th>\n",
       "      <th>topic_985</th>\n",
       "      <th>topic_986</th>\n",
       "      <th>topic_987</th>\n",
       "      <th>topic_988</th>\n",
       "      <th>topic_989</th>\n",
       "      <th>topic_990</th>\n",
       "      <th>topic_991</th>\n",
       "      <th>topic_992</th>\n",
       "      <th>topic_993</th>\n",
       "      <th>topic_994</th>\n",
       "      <th>topic_995</th>\n",
       "      <th>topic_996</th>\n",
       "      <th>topic_997</th>\n",
       "      <th>topic_998</th>\n",
       "      <th>topic_999</th>\n",
       "    </tr>\n",
       "  </thead>\n",
       "  <tbody>\n",
       "    <tr>\n",
       "      <th>0</th>\n",
       "      <td>0.000122</td>\n",
       "      <td>0.000033</td>\n",
       "      <td>0.000047</td>\n",
       "      <td>0.000079</td>\n",
       "      <td>0.000390</td>\n",
       "      <td>0.000572</td>\n",
       "      <td>0.000033</td>\n",
       "      <td>0.000051</td>\n",
       "      <td>0.000023</td>\n",
       "      <td>0.000041</td>\n",
       "      <td>0.000044</td>\n",
       "      <td>0.000133</td>\n",
       "      <td>0.000004</td>\n",
       "      <td>0.000047</td>\n",
       "      <td>0.000114</td>\n",
       "      <td>0.000030</td>\n",
       "      <td>0.000146</td>\n",
       "      <td>0.000117</td>\n",
       "      <td>0.000189</td>\n",
       "      <td>0.000160</td>\n",
       "      <td>0.000117</td>\n",
       "      <td>0.000048</td>\n",
       "      <td>0.000043</td>\n",
       "      <td>0.000120</td>\n",
       "      <td>0.000105</td>\n",
       "      <td>0.000081</td>\n",
       "      <td>0.000103</td>\n",
       "      <td>0.000477</td>\n",
       "      <td>0.000019</td>\n",
       "      <td>0.000074</td>\n",
       "      <td>0.000447</td>\n",
       "      <td>0.000048</td>\n",
       "      <td>0.000137</td>\n",
       "      <td>0.000025</td>\n",
       "      <td>0.000066</td>\n",
       "      <td>0.000083</td>\n",
       "      <td>0.000758</td>\n",
       "      <td>0.000139</td>\n",
       "      <td>0.000041</td>\n",
       "      <td>0.000033</td>\n",
       "      <td>...</td>\n",
       "      <td>0.000061</td>\n",
       "      <td>0.000040</td>\n",
       "      <td>0.000146</td>\n",
       "      <td>0.000056</td>\n",
       "      <td>0.000026</td>\n",
       "      <td>0.000033</td>\n",
       "      <td>0.000096</td>\n",
       "      <td>0.000066</td>\n",
       "      <td>0.000055</td>\n",
       "      <td>0.000055</td>\n",
       "      <td>0.000028</td>\n",
       "      <td>0.000092</td>\n",
       "      <td>0.000159</td>\n",
       "      <td>0.000059</td>\n",
       "      <td>0.000109</td>\n",
       "      <td>0.000045</td>\n",
       "      <td>0.000281</td>\n",
       "      <td>0.000138</td>\n",
       "      <td>0.000145</td>\n",
       "      <td>0.000077</td>\n",
       "      <td>0.000028</td>\n",
       "      <td>0.000066</td>\n",
       "      <td>0.000094</td>\n",
       "      <td>0.000054</td>\n",
       "      <td>0.000171</td>\n",
       "      <td>0.000768</td>\n",
       "      <td>0.000051</td>\n",
       "      <td>0.000198</td>\n",
       "      <td>0.000156</td>\n",
       "      <td>0.000066</td>\n",
       "      <td>0.000091</td>\n",
       "      <td>0.000094</td>\n",
       "      <td>0.000222</td>\n",
       "      <td>0.000137</td>\n",
       "      <td>0.000266</td>\n",
       "      <td>0.000083</td>\n",
       "      <td>0.000029</td>\n",
       "      <td>0.000148</td>\n",
       "      <td>0.000043</td>\n",
       "      <td>0.000063</td>\n",
       "    </tr>\n",
       "    <tr>\n",
       "      <th>1</th>\n",
       "      <td>0.000047</td>\n",
       "      <td>0.000013</td>\n",
       "      <td>0.000018</td>\n",
       "      <td>0.000031</td>\n",
       "      <td>0.000152</td>\n",
       "      <td>0.000223</td>\n",
       "      <td>0.000013</td>\n",
       "      <td>0.000020</td>\n",
       "      <td>0.000009</td>\n",
       "      <td>0.000016</td>\n",
       "      <td>0.000017</td>\n",
       "      <td>0.000052</td>\n",
       "      <td>0.000002</td>\n",
       "      <td>0.000018</td>\n",
       "      <td>0.000045</td>\n",
       "      <td>0.000012</td>\n",
       "      <td>0.000057</td>\n",
       "      <td>0.000046</td>\n",
       "      <td>0.000074</td>\n",
       "      <td>0.000062</td>\n",
       "      <td>0.000046</td>\n",
       "      <td>0.000019</td>\n",
       "      <td>0.000017</td>\n",
       "      <td>0.000047</td>\n",
       "      <td>0.000041</td>\n",
       "      <td>0.000032</td>\n",
       "      <td>0.000040</td>\n",
       "      <td>0.000186</td>\n",
       "      <td>0.000008</td>\n",
       "      <td>0.000029</td>\n",
       "      <td>0.000174</td>\n",
       "      <td>0.000019</td>\n",
       "      <td>0.000053</td>\n",
       "      <td>0.000010</td>\n",
       "      <td>0.000026</td>\n",
       "      <td>0.000032</td>\n",
       "      <td>0.000295</td>\n",
       "      <td>0.000054</td>\n",
       "      <td>0.000016</td>\n",
       "      <td>0.000013</td>\n",
       "      <td>...</td>\n",
       "      <td>0.000024</td>\n",
       "      <td>0.000016</td>\n",
       "      <td>0.000057</td>\n",
       "      <td>0.000022</td>\n",
       "      <td>0.000010</td>\n",
       "      <td>0.000013</td>\n",
       "      <td>0.000038</td>\n",
       "      <td>0.000026</td>\n",
       "      <td>0.000021</td>\n",
       "      <td>0.000021</td>\n",
       "      <td>0.000011</td>\n",
       "      <td>0.000036</td>\n",
       "      <td>0.000062</td>\n",
       "      <td>0.000023</td>\n",
       "      <td>0.000042</td>\n",
       "      <td>0.000018</td>\n",
       "      <td>0.000109</td>\n",
       "      <td>0.000054</td>\n",
       "      <td>0.000056</td>\n",
       "      <td>0.000030</td>\n",
       "      <td>0.000011</td>\n",
       "      <td>0.000026</td>\n",
       "      <td>0.000037</td>\n",
       "      <td>0.000021</td>\n",
       "      <td>0.000067</td>\n",
       "      <td>0.000299</td>\n",
       "      <td>0.000020</td>\n",
       "      <td>0.000077</td>\n",
       "      <td>0.000061</td>\n",
       "      <td>0.000026</td>\n",
       "      <td>0.000035</td>\n",
       "      <td>0.000037</td>\n",
       "      <td>0.000087</td>\n",
       "      <td>0.000053</td>\n",
       "      <td>0.000103</td>\n",
       "      <td>0.000032</td>\n",
       "      <td>0.000011</td>\n",
       "      <td>0.000058</td>\n",
       "      <td>0.000017</td>\n",
       "      <td>0.000025</td>\n",
       "    </tr>\n",
       "    <tr>\n",
       "      <th>2</th>\n",
       "      <td>0.000076</td>\n",
       "      <td>0.000021</td>\n",
       "      <td>0.000029</td>\n",
       "      <td>0.000049</td>\n",
       "      <td>0.000244</td>\n",
       "      <td>0.000358</td>\n",
       "      <td>0.000021</td>\n",
       "      <td>0.000032</td>\n",
       "      <td>0.000015</td>\n",
       "      <td>0.000026</td>\n",
       "      <td>0.000028</td>\n",
       "      <td>0.000083</td>\n",
       "      <td>0.000003</td>\n",
       "      <td>0.000029</td>\n",
       "      <td>0.000072</td>\n",
       "      <td>0.000019</td>\n",
       "      <td>0.000092</td>\n",
       "      <td>0.000073</td>\n",
       "      <td>0.000119</td>\n",
       "      <td>0.000100</td>\n",
       "      <td>0.000073</td>\n",
       "      <td>0.000030</td>\n",
       "      <td>0.000027</td>\n",
       "      <td>0.000075</td>\n",
       "      <td>0.000066</td>\n",
       "      <td>0.000051</td>\n",
       "      <td>0.000065</td>\n",
       "      <td>0.000299</td>\n",
       "      <td>0.000012</td>\n",
       "      <td>0.000047</td>\n",
       "      <td>0.000280</td>\n",
       "      <td>0.000030</td>\n",
       "      <td>0.000086</td>\n",
       "      <td>0.000016</td>\n",
       "      <td>0.000041</td>\n",
       "      <td>0.000052</td>\n",
       "      <td>0.000475</td>\n",
       "      <td>0.000087</td>\n",
       "      <td>0.000026</td>\n",
       "      <td>0.000021</td>\n",
       "      <td>...</td>\n",
       "      <td>0.000038</td>\n",
       "      <td>0.000025</td>\n",
       "      <td>0.000092</td>\n",
       "      <td>0.000035</td>\n",
       "      <td>0.000016</td>\n",
       "      <td>0.000021</td>\n",
       "      <td>0.000060</td>\n",
       "      <td>0.000041</td>\n",
       "      <td>0.000035</td>\n",
       "      <td>0.000035</td>\n",
       "      <td>0.000017</td>\n",
       "      <td>0.000058</td>\n",
       "      <td>0.000099</td>\n",
       "      <td>0.000037</td>\n",
       "      <td>0.000068</td>\n",
       "      <td>0.000028</td>\n",
       "      <td>0.000176</td>\n",
       "      <td>0.000086</td>\n",
       "      <td>0.000091</td>\n",
       "      <td>0.000048</td>\n",
       "      <td>0.000017</td>\n",
       "      <td>0.000041</td>\n",
       "      <td>0.000059</td>\n",
       "      <td>0.000034</td>\n",
       "      <td>0.000107</td>\n",
       "      <td>0.140707</td>\n",
       "      <td>0.000032</td>\n",
       "      <td>0.000124</td>\n",
       "      <td>0.000098</td>\n",
       "      <td>0.000041</td>\n",
       "      <td>0.000057</td>\n",
       "      <td>0.000059</td>\n",
       "      <td>0.000139</td>\n",
       "      <td>0.000086</td>\n",
       "      <td>0.000166</td>\n",
       "      <td>0.000052</td>\n",
       "      <td>0.000018</td>\n",
       "      <td>0.000092</td>\n",
       "      <td>0.000027</td>\n",
       "      <td>0.000040</td>\n",
       "    </tr>\n",
       "    <tr>\n",
       "      <th>3</th>\n",
       "      <td>0.000370</td>\n",
       "      <td>0.000101</td>\n",
       "      <td>0.000143</td>\n",
       "      <td>0.000240</td>\n",
       "      <td>0.001190</td>\n",
       "      <td>0.001742</td>\n",
       "      <td>0.000101</td>\n",
       "      <td>0.000155</td>\n",
       "      <td>0.000071</td>\n",
       "      <td>0.000126</td>\n",
       "      <td>0.000134</td>\n",
       "      <td>0.000404</td>\n",
       "      <td>0.000013</td>\n",
       "      <td>0.000143</td>\n",
       "      <td>0.000349</td>\n",
       "      <td>0.000092</td>\n",
       "      <td>0.000446</td>\n",
       "      <td>0.000357</td>\n",
       "      <td>0.000577</td>\n",
       "      <td>0.000488</td>\n",
       "      <td>0.000357</td>\n",
       "      <td>0.000147</td>\n",
       "      <td>0.000130</td>\n",
       "      <td>0.000366</td>\n",
       "      <td>0.000320</td>\n",
       "      <td>0.000248</td>\n",
       "      <td>0.000315</td>\n",
       "      <td>0.001454</td>\n",
       "      <td>0.000059</td>\n",
       "      <td>0.000227</td>\n",
       "      <td>0.001362</td>\n",
       "      <td>0.000147</td>\n",
       "      <td>0.000417</td>\n",
       "      <td>0.000076</td>\n",
       "      <td>0.000202</td>\n",
       "      <td>0.000252</td>\n",
       "      <td>0.002310</td>\n",
       "      <td>0.000425</td>\n",
       "      <td>0.000126</td>\n",
       "      <td>0.000101</td>\n",
       "      <td>...</td>\n",
       "      <td>0.000185</td>\n",
       "      <td>0.000122</td>\n",
       "      <td>0.000446</td>\n",
       "      <td>0.000172</td>\n",
       "      <td>0.000080</td>\n",
       "      <td>0.000101</td>\n",
       "      <td>0.000294</td>\n",
       "      <td>0.000202</td>\n",
       "      <td>0.000168</td>\n",
       "      <td>0.000168</td>\n",
       "      <td>0.000084</td>\n",
       "      <td>0.000282</td>\n",
       "      <td>0.000484</td>\n",
       "      <td>0.000181</td>\n",
       "      <td>0.000332</td>\n",
       "      <td>0.000139</td>\n",
       "      <td>0.000856</td>\n",
       "      <td>0.000420</td>\n",
       "      <td>0.000442</td>\n",
       "      <td>0.000235</td>\n",
       "      <td>0.000084</td>\n",
       "      <td>0.000202</td>\n",
       "      <td>0.000286</td>\n",
       "      <td>0.000164</td>\n",
       "      <td>0.000522</td>\n",
       "      <td>0.002340</td>\n",
       "      <td>0.000155</td>\n",
       "      <td>0.000602</td>\n",
       "      <td>0.000475</td>\n",
       "      <td>0.000202</td>\n",
       "      <td>0.000277</td>\n",
       "      <td>0.000286</td>\n",
       "      <td>0.683434</td>\n",
       "      <td>0.000416</td>\n",
       "      <td>0.000810</td>\n",
       "      <td>0.000252</td>\n",
       "      <td>0.000088</td>\n",
       "      <td>0.000450</td>\n",
       "      <td>0.000130</td>\n",
       "      <td>0.000193</td>\n",
       "    </tr>\n",
       "    <tr>\n",
       "      <th>4</th>\n",
       "      <td>0.000480</td>\n",
       "      <td>0.000130</td>\n",
       "      <td>0.000185</td>\n",
       "      <td>0.000310</td>\n",
       "      <td>0.001540</td>\n",
       "      <td>0.002256</td>\n",
       "      <td>0.000131</td>\n",
       "      <td>0.000201</td>\n",
       "      <td>0.000092</td>\n",
       "      <td>0.000163</td>\n",
       "      <td>0.000174</td>\n",
       "      <td>0.000523</td>\n",
       "      <td>0.000016</td>\n",
       "      <td>0.000185</td>\n",
       "      <td>0.000452</td>\n",
       "      <td>0.000120</td>\n",
       "      <td>0.000577</td>\n",
       "      <td>0.000462</td>\n",
       "      <td>0.000747</td>\n",
       "      <td>0.000632</td>\n",
       "      <td>0.000463</td>\n",
       "      <td>0.000190</td>\n",
       "      <td>0.000169</td>\n",
       "      <td>0.000474</td>\n",
       "      <td>0.000414</td>\n",
       "      <td>0.000321</td>\n",
       "      <td>0.000408</td>\n",
       "      <td>0.001882</td>\n",
       "      <td>0.000076</td>\n",
       "      <td>0.000294</td>\n",
       "      <td>0.001763</td>\n",
       "      <td>0.000190</td>\n",
       "      <td>0.000539</td>\n",
       "      <td>0.000098</td>\n",
       "      <td>0.000261</td>\n",
       "      <td>0.000326</td>\n",
       "      <td>0.002991</td>\n",
       "      <td>0.000550</td>\n",
       "      <td>0.000163</td>\n",
       "      <td>0.000130</td>\n",
       "      <td>...</td>\n",
       "      <td>0.000239</td>\n",
       "      <td>0.000158</td>\n",
       "      <td>0.000578</td>\n",
       "      <td>0.000223</td>\n",
       "      <td>0.000103</td>\n",
       "      <td>0.000131</td>\n",
       "      <td>0.000381</td>\n",
       "      <td>0.000261</td>\n",
       "      <td>0.000217</td>\n",
       "      <td>0.000218</td>\n",
       "      <td>0.000109</td>\n",
       "      <td>0.000364</td>\n",
       "      <td>0.000627</td>\n",
       "      <td>0.000234</td>\n",
       "      <td>0.000430</td>\n",
       "      <td>0.000179</td>\n",
       "      <td>0.001108</td>\n",
       "      <td>0.000544</td>\n",
       "      <td>0.000572</td>\n",
       "      <td>0.000305</td>\n",
       "      <td>0.000109</td>\n",
       "      <td>0.000261</td>\n",
       "      <td>0.000370</td>\n",
       "      <td>0.000212</td>\n",
       "      <td>0.000675</td>\n",
       "      <td>0.003029</td>\n",
       "      <td>0.000201</td>\n",
       "      <td>0.000780</td>\n",
       "      <td>0.000615</td>\n",
       "      <td>0.000261</td>\n",
       "      <td>0.000359</td>\n",
       "      <td>0.000370</td>\n",
       "      <td>0.000877</td>\n",
       "      <td>0.000539</td>\n",
       "      <td>0.001048</td>\n",
       "      <td>0.000326</td>\n",
       "      <td>0.000114</td>\n",
       "      <td>0.000583</td>\n",
       "      <td>0.000169</td>\n",
       "      <td>0.000250</td>\n",
       "    </tr>\n",
       "  </tbody>\n",
       "</table>\n",
       "<p>5 rows × 1000 columns</p>\n",
       "</div>"
      ],
      "text/plain": [
       "    topic_0   topic_1   topic_2  ...  topic_997  topic_998  topic_999\n",
       "0  0.000122  0.000033  0.000047  ...   0.000148   0.000043   0.000063\n",
       "1  0.000047  0.000013  0.000018  ...   0.000058   0.000017   0.000025\n",
       "2  0.000076  0.000021  0.000029  ...   0.000092   0.000027   0.000040\n",
       "3  0.000370  0.000101  0.000143  ...   0.000450   0.000130   0.000193\n",
       "4  0.000480  0.000130  0.000185  ...   0.000583   0.000169   0.000250\n",
       "\n",
       "[5 rows x 1000 columns]"
      ]
     },
     "execution_count": 51,
     "metadata": {},
     "output_type": "execute_result"
    }
   ],
   "source": [
    "#the topic distributions of the highest probability for each topic\n",
    "#we create a dataframe of the topic distribution (which we will later merge with the original dataframe)\n",
    "import pandas as pd\n",
    "\n",
    "transformed_docs = lda.load_document_topics()\n",
    "topic_distributions = pd.DataFrame([[x[1] for x in doc] for doc in transformed_docs], \n",
    "             columns=['topic_{}'.format(i) for i in range(N_TOPICS)])\n",
    "topic_distributions.head()"
   ]
  },
  {
   "cell_type": "code",
   "execution_count": null,
   "metadata": {
    "id": "hqdLC5yTOF6a"
   },
   "outputs": [],
   "source": [
    "#!pip install pandas==1.3.1\n",
    "#!pip install pandas --upgrade"
   ]
  },
  {
   "cell_type": "code",
   "execution_count": null,
   "metadata": {
    "colab": {
     "base_uri": "https://localhost:8080/",
     "height": 193
    },
    "id": "_TQrYgC1R3qb",
    "outputId": "aa42199a-8ce8-48de-913b-5ea00aa5e61c"
   },
   "outputs": [
    {
     "data": {
      "text/html": [
       "<div>\n",
       "<style scoped>\n",
       "    .dataframe tbody tr th:only-of-type {\n",
       "        vertical-align: middle;\n",
       "    }\n",
       "\n",
       "    .dataframe tbody tr th {\n",
       "        vertical-align: top;\n",
       "    }\n",
       "\n",
       "    .dataframe thead th {\n",
       "        text-align: right;\n",
       "    }\n",
       "</style>\n",
       "<table border=\"1\" class=\"dataframe\">\n",
       "  <thead>\n",
       "    <tr style=\"text-align: right;\">\n",
       "      <th></th>\n",
       "      <th>topic_0</th>\n",
       "      <th>topic_1</th>\n",
       "      <th>topic_2</th>\n",
       "      <th>topic_3</th>\n",
       "      <th>topic_4</th>\n",
       "      <th>topic_5</th>\n",
       "      <th>topic_6</th>\n",
       "      <th>topic_7</th>\n",
       "      <th>topic_8</th>\n",
       "      <th>topic_9</th>\n",
       "      <th>topic_10</th>\n",
       "      <th>topic_11</th>\n",
       "      <th>topic_12</th>\n",
       "      <th>topic_13</th>\n",
       "      <th>topic_14</th>\n",
       "      <th>topic_15</th>\n",
       "      <th>topic_16</th>\n",
       "      <th>topic_17</th>\n",
       "      <th>topic_18</th>\n",
       "      <th>topic_19</th>\n",
       "      <th>topic_20</th>\n",
       "      <th>topic_21</th>\n",
       "      <th>topic_22</th>\n",
       "      <th>topic_23</th>\n",
       "      <th>topic_24</th>\n",
       "      <th>topic_25</th>\n",
       "      <th>topic_26</th>\n",
       "      <th>topic_27</th>\n",
       "      <th>topic_28</th>\n",
       "      <th>topic_29</th>\n",
       "      <th>topic_30</th>\n",
       "      <th>topic_31</th>\n",
       "      <th>topic_32</th>\n",
       "      <th>topic_33</th>\n",
       "      <th>topic_34</th>\n",
       "      <th>topic_35</th>\n",
       "      <th>topic_36</th>\n",
       "      <th>topic_37</th>\n",
       "      <th>topic_38</th>\n",
       "      <th>topic_39</th>\n",
       "      <th>...</th>\n",
       "      <th>topic_960</th>\n",
       "      <th>topic_961</th>\n",
       "      <th>topic_962</th>\n",
       "      <th>topic_963</th>\n",
       "      <th>topic_964</th>\n",
       "      <th>topic_965</th>\n",
       "      <th>topic_966</th>\n",
       "      <th>topic_967</th>\n",
       "      <th>topic_968</th>\n",
       "      <th>topic_969</th>\n",
       "      <th>topic_970</th>\n",
       "      <th>topic_971</th>\n",
       "      <th>topic_972</th>\n",
       "      <th>topic_973</th>\n",
       "      <th>topic_974</th>\n",
       "      <th>topic_975</th>\n",
       "      <th>topic_976</th>\n",
       "      <th>topic_977</th>\n",
       "      <th>topic_978</th>\n",
       "      <th>topic_979</th>\n",
       "      <th>topic_980</th>\n",
       "      <th>topic_981</th>\n",
       "      <th>topic_982</th>\n",
       "      <th>topic_983</th>\n",
       "      <th>topic_984</th>\n",
       "      <th>topic_985</th>\n",
       "      <th>topic_986</th>\n",
       "      <th>topic_987</th>\n",
       "      <th>topic_988</th>\n",
       "      <th>topic_989</th>\n",
       "      <th>topic_990</th>\n",
       "      <th>topic_991</th>\n",
       "      <th>topic_992</th>\n",
       "      <th>topic_993</th>\n",
       "      <th>topic_994</th>\n",
       "      <th>topic_995</th>\n",
       "      <th>topic_996</th>\n",
       "      <th>topic_997</th>\n",
       "      <th>topic_998</th>\n",
       "      <th>topic_999</th>\n",
       "    </tr>\n",
       "    <tr>\n",
       "      <th>netloc</th>\n",
       "      <th></th>\n",
       "      <th></th>\n",
       "      <th></th>\n",
       "      <th></th>\n",
       "      <th></th>\n",
       "      <th></th>\n",
       "      <th></th>\n",
       "      <th></th>\n",
       "      <th></th>\n",
       "      <th></th>\n",
       "      <th></th>\n",
       "      <th></th>\n",
       "      <th></th>\n",
       "      <th></th>\n",
       "      <th></th>\n",
       "      <th></th>\n",
       "      <th></th>\n",
       "      <th></th>\n",
       "      <th></th>\n",
       "      <th></th>\n",
       "      <th></th>\n",
       "      <th></th>\n",
       "      <th></th>\n",
       "      <th></th>\n",
       "      <th></th>\n",
       "      <th></th>\n",
       "      <th></th>\n",
       "      <th></th>\n",
       "      <th></th>\n",
       "      <th></th>\n",
       "      <th></th>\n",
       "      <th></th>\n",
       "      <th></th>\n",
       "      <th></th>\n",
       "      <th></th>\n",
       "      <th></th>\n",
       "      <th></th>\n",
       "      <th></th>\n",
       "      <th></th>\n",
       "      <th></th>\n",
       "      <th></th>\n",
       "      <th></th>\n",
       "      <th></th>\n",
       "      <th></th>\n",
       "      <th></th>\n",
       "      <th></th>\n",
       "      <th></th>\n",
       "      <th></th>\n",
       "      <th></th>\n",
       "      <th></th>\n",
       "      <th></th>\n",
       "      <th></th>\n",
       "      <th></th>\n",
       "      <th></th>\n",
       "      <th></th>\n",
       "      <th></th>\n",
       "      <th></th>\n",
       "      <th></th>\n",
       "      <th></th>\n",
       "      <th></th>\n",
       "      <th></th>\n",
       "      <th></th>\n",
       "      <th></th>\n",
       "      <th></th>\n",
       "      <th></th>\n",
       "      <th></th>\n",
       "      <th></th>\n",
       "      <th></th>\n",
       "      <th></th>\n",
       "      <th></th>\n",
       "      <th></th>\n",
       "      <th></th>\n",
       "      <th></th>\n",
       "      <th></th>\n",
       "      <th></th>\n",
       "      <th></th>\n",
       "      <th></th>\n",
       "      <th></th>\n",
       "      <th></th>\n",
       "      <th></th>\n",
       "      <th></th>\n",
       "    </tr>\n",
       "  </thead>\n",
       "  <tbody>\n",
       "    <tr>\n",
       "      <th>thehill.com</th>\n",
       "      <td>0.000119</td>\n",
       "      <td>0.000032</td>\n",
       "      <td>0.000046</td>\n",
       "      <td>0.000077</td>\n",
       "      <td>0.000383</td>\n",
       "      <td>0.000561</td>\n",
       "      <td>0.000032</td>\n",
       "      <td>0.000050</td>\n",
       "      <td>0.000023</td>\n",
       "      <td>0.000041</td>\n",
       "      <td>0.000043</td>\n",
       "      <td>0.000130</td>\n",
       "      <td>0.000004</td>\n",
       "      <td>0.000046</td>\n",
       "      <td>0.000112</td>\n",
       "      <td>0.000030</td>\n",
       "      <td>0.000144</td>\n",
       "      <td>0.000115</td>\n",
       "      <td>0.000186</td>\n",
       "      <td>0.000157</td>\n",
       "      <td>0.000115</td>\n",
       "      <td>0.000047</td>\n",
       "      <td>0.000042</td>\n",
       "      <td>0.000118</td>\n",
       "      <td>0.000103</td>\n",
       "      <td>0.00008</td>\n",
       "      <td>0.000102</td>\n",
       "      <td>0.000468</td>\n",
       "      <td>0.000019</td>\n",
       "      <td>0.000073</td>\n",
       "      <td>0.000439</td>\n",
       "      <td>0.000047</td>\n",
       "      <td>0.000134</td>\n",
       "      <td>0.000024</td>\n",
       "      <td>0.000065</td>\n",
       "      <td>0.000081</td>\n",
       "      <td>0.000744</td>\n",
       "      <td>0.000137</td>\n",
       "      <td>0.000041</td>\n",
       "      <td>0.000032</td>\n",
       "      <td>...</td>\n",
       "      <td>0.000060</td>\n",
       "      <td>0.000039</td>\n",
       "      <td>0.000144</td>\n",
       "      <td>0.000055</td>\n",
       "      <td>0.000026</td>\n",
       "      <td>0.000032</td>\n",
       "      <td>0.000095</td>\n",
       "      <td>0.000065</td>\n",
       "      <td>0.000054</td>\n",
       "      <td>0.000054</td>\n",
       "      <td>0.000027</td>\n",
       "      <td>0.000091</td>\n",
       "      <td>0.000156</td>\n",
       "      <td>0.000058</td>\n",
       "      <td>0.000107</td>\n",
       "      <td>0.000045</td>\n",
       "      <td>0.000276</td>\n",
       "      <td>0.000135</td>\n",
       "      <td>0.000142</td>\n",
       "      <td>0.000076</td>\n",
       "      <td>0.000027</td>\n",
       "      <td>0.000065</td>\n",
       "      <td>0.000092</td>\n",
       "      <td>0.000053</td>\n",
       "      <td>0.000168</td>\n",
       "      <td>0.000754</td>\n",
       "      <td>0.000050</td>\n",
       "      <td>0.000194</td>\n",
       "      <td>0.000153</td>\n",
       "      <td>0.000065</td>\n",
       "      <td>0.000089</td>\n",
       "      <td>0.000092</td>\n",
       "      <td>0.000218</td>\n",
       "      <td>0.000134</td>\n",
       "      <td>0.000261</td>\n",
       "      <td>0.000081</td>\n",
       "      <td>0.000028</td>\n",
       "      <td>0.000145</td>\n",
       "      <td>0.000042</td>\n",
       "      <td>0.000062</td>\n",
       "    </tr>\n",
       "    <tr>\n",
       "      <th>www.nytimes.com</th>\n",
       "      <td>0.000150</td>\n",
       "      <td>0.000041</td>\n",
       "      <td>0.000058</td>\n",
       "      <td>0.000097</td>\n",
       "      <td>0.000481</td>\n",
       "      <td>0.000704</td>\n",
       "      <td>0.000041</td>\n",
       "      <td>0.000063</td>\n",
       "      <td>0.000029</td>\n",
       "      <td>0.000051</td>\n",
       "      <td>0.000054</td>\n",
       "      <td>0.000163</td>\n",
       "      <td>0.000005</td>\n",
       "      <td>0.000058</td>\n",
       "      <td>0.000141</td>\n",
       "      <td>0.000037</td>\n",
       "      <td>0.000180</td>\n",
       "      <td>0.000144</td>\n",
       "      <td>0.000233</td>\n",
       "      <td>0.000197</td>\n",
       "      <td>0.000144</td>\n",
       "      <td>0.000059</td>\n",
       "      <td>0.000053</td>\n",
       "      <td>0.000148</td>\n",
       "      <td>0.000129</td>\n",
       "      <td>0.00010</td>\n",
       "      <td>0.000127</td>\n",
       "      <td>0.000588</td>\n",
       "      <td>0.000024</td>\n",
       "      <td>0.000092</td>\n",
       "      <td>0.000550</td>\n",
       "      <td>0.000059</td>\n",
       "      <td>0.000168</td>\n",
       "      <td>0.000031</td>\n",
       "      <td>0.000082</td>\n",
       "      <td>0.000102</td>\n",
       "      <td>0.000934</td>\n",
       "      <td>0.000172</td>\n",
       "      <td>0.000051</td>\n",
       "      <td>0.000041</td>\n",
       "      <td>...</td>\n",
       "      <td>0.000075</td>\n",
       "      <td>0.000049</td>\n",
       "      <td>0.000180</td>\n",
       "      <td>0.000070</td>\n",
       "      <td>0.000032</td>\n",
       "      <td>0.000041</td>\n",
       "      <td>0.000119</td>\n",
       "      <td>0.000082</td>\n",
       "      <td>0.000068</td>\n",
       "      <td>0.000068</td>\n",
       "      <td>0.000034</td>\n",
       "      <td>0.000114</td>\n",
       "      <td>0.000196</td>\n",
       "      <td>0.000073</td>\n",
       "      <td>0.000134</td>\n",
       "      <td>0.000056</td>\n",
       "      <td>0.000346</td>\n",
       "      <td>0.000170</td>\n",
       "      <td>0.000179</td>\n",
       "      <td>0.000095</td>\n",
       "      <td>0.000034</td>\n",
       "      <td>0.000081</td>\n",
       "      <td>0.000116</td>\n",
       "      <td>0.000066</td>\n",
       "      <td>0.000211</td>\n",
       "      <td>0.000946</td>\n",
       "      <td>0.000063</td>\n",
       "      <td>0.000243</td>\n",
       "      <td>0.000192</td>\n",
       "      <td>0.000082</td>\n",
       "      <td>0.000112</td>\n",
       "      <td>0.000116</td>\n",
       "      <td>0.000274</td>\n",
       "      <td>0.000168</td>\n",
       "      <td>0.000327</td>\n",
       "      <td>0.000102</td>\n",
       "      <td>0.000036</td>\n",
       "      <td>0.000182</td>\n",
       "      <td>0.000053</td>\n",
       "      <td>0.000078</td>\n",
       "    </tr>\n",
       "  </tbody>\n",
       "</table>\n",
       "<p>2 rows × 1000 columns</p>\n",
       "</div>"
      ],
      "text/plain": [
       "                  topic_0   topic_1   topic_2  ...  topic_997  topic_998  topic_999\n",
       "netloc                                         ...                                 \n",
       "thehill.com      0.000119  0.000032  0.000046  ...   0.000145   0.000042   0.000062\n",
       "www.nytimes.com  0.000150  0.000041  0.000058  ...   0.000182   0.000053   0.000078\n",
       "\n",
       "[2 rows x 1000 columns]"
      ]
     },
     "execution_count": 53,
     "metadata": {},
     "output_type": "execute_result"
    }
   ],
   "source": [
    "#merge the topic distribution with the original dataframe\n",
    "joined_topic_dist = df.reset_index().join(topic_distributions)\n",
    "joined_topic_dist.head()\n",
    "\n",
    "#create a subset\n",
    "joined_topic_dist = joined_topic_dist[(joined_topic_dist.netloc=='www.nytimes.com') | (joined_topic_dist.netloc=='thehill.com')]\n",
    "#create a mask to be able to select all topic columns and the netlock column\n",
    "#I need this to be able to group on netloc\n",
    "mask = joined_topic_dist.columns.str.contains('topic') | (joined_topic_dist.columns == 'netloc')\n",
    "joined_topic_dist = joined_topic_dist.loc[:, mask].head()\n",
    "\n",
    "#Compare groups\n",
    "grouped_by_media = joined_topic_dist.groupby('netloc').mean()\n",
    "grouped_by_media.head()"
   ]
  },
  {
   "cell_type": "code",
   "execution_count": null,
   "metadata": {
    "colab": {
     "base_uri": "https://localhost:8080/"
    },
    "id": "_--h12Hfw62r",
    "outputId": "9c8120ec-932d-496d-a110-864865c69705"
   },
   "outputs": [
    {
     "data": {
      "text/plain": [
       "0.002550414840750248"
      ]
     },
     "execution_count": 54,
     "metadata": {},
     "output_type": "execute_result"
    }
   ],
   "source": [
    "#I'm going to measure the distance between the two rows using a distance metrics\n",
    "#I've chosen the cosine similarity distance (source code: https://stackoverflow.com/questions/18424228/cosine-similarity-between-2-number-lists)\n",
    "from scipy import spatial\n",
    "\n",
    "newyorktimes =  grouped_by_media.iloc[0,:]\n",
    "thehill = grouped_by_media.iloc[1,:]\n",
    "result = 1 - spatial.distance.cosine(newyorktimes, thehill)\n",
    "result"
   ]
  },
  {
   "cell_type": "markdown",
   "metadata": {
    "id": "dN2UE24gHDlC"
   },
   "source": [
    "#Explaination results \n",
    "\n",
    "Interpretation cosine distance: \n",
    "The cosine distance metric measures how similar two vectors are. It looks at the angle between two vectors, to find in what degree they are pointing in the same direction. From word vectors we know that the closer they are together, the more similar they are. A higher outcome therefore means that the overall topics are more alike. The output of a cosine similarity lays between 0 and 1. A score of 0.003 means that the topics scores are on average not very alike. This rejects my earlier hypothesis saying that the topics would be quite similar. (source: https://www-sciencedirect-com.proxy.library.uu.nl/topics/computer-science/cosine-similarity)\n",
    "\n",
    "Discussion:<br>\n",
    "In this case study we looked at the average over the different descriptions of news media within tweets of politicians. Note that the amount of messages from the newyorktimes (1508) is almost three times as much as those from the hill (550). Therefore the topics from the hill have a higher weight (more impact) on the results than those from the newyorktimes. It's also possible that papers use different words to relate to the same topic. This would underline my earlier hypothesis.\n",
    "\n",
    "Parameter tuning: <br>\n",
    "Another thing I would like to discuss is parameter tuning. I was required to predefine the number of topics. If the number is too small - topics tend to be more general. If the number is too large - topics will be overlapping with eachother. I choose 1000 topics. I also had to decide on the maximum amount of times the words had to occur document. I choose 90 percent. These setting might bias the cosine score. This means that the true similarity between topics might be higher or lower then the score shown in this case study. \n",
    "\n",
    "Pre-processing: <br>\n",
    "I could also have made a different choice when it comes to pre-processing. For example, extra noice reduction within words of the text.\n",
    "\n",
    "\n"
   ]
  }
 ],
 "metadata": {
  "colab": {
   "collapsed_sections": [],
   "name": "Exam_Text_Analysis_Question_1.ipynb",
   "provenance": []
  },
  "kernelspec": {
   "display_name": "Python 3",
   "language": "python",
   "name": "python3"
  },
  "language_info": {
   "codemirror_mode": {
    "name": "ipython",
    "version": 3
   },
   "file_extension": ".py",
   "mimetype": "text/x-python",
   "name": "python",
   "nbconvert_exporter": "python",
   "pygments_lexer": "ipython3",
   "version": "3.7.3"
  },
  "widgets": {
   "application/vnd.jupyter.widget-state+json": {
    "15cdad3172814c138784a3fc1270ba3f": {
     "model_module": "@jupyter-widgets/controls",
     "model_module_version": "1.5.0",
     "model_name": "ProgressStyleModel",
     "state": {
      "_model_module": "@jupyter-widgets/controls",
      "_model_module_version": "1.5.0",
      "_model_name": "ProgressStyleModel",
      "_view_count": null,
      "_view_module": "@jupyter-widgets/base",
      "_view_module_version": "1.2.0",
      "_view_name": "StyleView",
      "bar_color": null,
      "description_width": ""
     }
    },
    "3b584b22cb984d9aaaf836801e9aab18": {
     "model_module": "@jupyter-widgets/controls",
     "model_module_version": "1.5.0",
     "model_name": "FloatProgressModel",
     "state": {
      "_dom_classes": [],
      "_model_module": "@jupyter-widgets/controls",
      "_model_module_version": "1.5.0",
      "_model_name": "FloatProgressModel",
      "_view_count": null,
      "_view_module": "@jupyter-widgets/controls",
      "_view_module_version": "1.5.0",
      "_view_name": "ProgressView",
      "bar_style": "success",
      "description": "",
      "description_tooltip": null,
      "layout": "IPY_MODEL_62de8650ec7248b79d35634fb247ffbb",
      "max": 23448,
      "min": 0,
      "orientation": "horizontal",
      "style": "IPY_MODEL_15cdad3172814c138784a3fc1270ba3f",
      "value": 23448
     }
    },
    "62de8650ec7248b79d35634fb247ffbb": {
     "model_module": "@jupyter-widgets/base",
     "model_module_version": "1.2.0",
     "model_name": "LayoutModel",
     "state": {
      "_model_module": "@jupyter-widgets/base",
      "_model_module_version": "1.2.0",
      "_model_name": "LayoutModel",
      "_view_count": null,
      "_view_module": "@jupyter-widgets/base",
      "_view_module_version": "1.2.0",
      "_view_name": "LayoutView",
      "align_content": null,
      "align_items": null,
      "align_self": null,
      "border": null,
      "bottom": null,
      "display": null,
      "flex": null,
      "flex_flow": null,
      "grid_area": null,
      "grid_auto_columns": null,
      "grid_auto_flow": null,
      "grid_auto_rows": null,
      "grid_column": null,
      "grid_gap": null,
      "grid_row": null,
      "grid_template_areas": null,
      "grid_template_columns": null,
      "grid_template_rows": null,
      "height": null,
      "justify_content": null,
      "justify_items": null,
      "left": null,
      "margin": null,
      "max_height": null,
      "max_width": null,
      "min_height": null,
      "min_width": null,
      "object_fit": null,
      "object_position": null,
      "order": null,
      "overflow": null,
      "overflow_x": null,
      "overflow_y": null,
      "padding": null,
      "right": null,
      "top": null,
      "visibility": null,
      "width": null
     }
    },
    "8aced2ada4c34b9cbd6f4b7c770d59ea": {
     "model_module": "@jupyter-widgets/controls",
     "model_module_version": "1.5.0",
     "model_name": "DescriptionStyleModel",
     "state": {
      "_model_module": "@jupyter-widgets/controls",
      "_model_module_version": "1.5.0",
      "_model_name": "DescriptionStyleModel",
      "_view_count": null,
      "_view_module": "@jupyter-widgets/base",
      "_view_module_version": "1.2.0",
      "_view_name": "StyleView",
      "description_width": ""
     }
    },
    "a0c9634f602943e481025cfcbff78c62": {
     "model_module": "@jupyter-widgets/controls",
     "model_module_version": "1.5.0",
     "model_name": "HTMLModel",
     "state": {
      "_dom_classes": [],
      "_model_module": "@jupyter-widgets/controls",
      "_model_module_version": "1.5.0",
      "_model_name": "HTMLModel",
      "_view_count": null,
      "_view_module": "@jupyter-widgets/controls",
      "_view_module_version": "1.5.0",
      "_view_name": "HTMLView",
      "description": "",
      "description_tooltip": null,
      "layout": "IPY_MODEL_bbb426c3bdb044a18db147b2ac55468a",
      "placeholder": "​",
      "style": "IPY_MODEL_c726b5717acf41af92568d8d62bd4f6e",
      "value": " 23448/23448 [00:48&lt;00:00, 1517.48it/s]"
     }
    },
    "b9e7e7372689462db7935c90083fee9d": {
     "model_module": "@jupyter-widgets/base",
     "model_module_version": "1.2.0",
     "model_name": "LayoutModel",
     "state": {
      "_model_module": "@jupyter-widgets/base",
      "_model_module_version": "1.2.0",
      "_model_name": "LayoutModel",
      "_view_count": null,
      "_view_module": "@jupyter-widgets/base",
      "_view_module_version": "1.2.0",
      "_view_name": "LayoutView",
      "align_content": null,
      "align_items": null,
      "align_self": null,
      "border": null,
      "bottom": null,
      "display": null,
      "flex": null,
      "flex_flow": null,
      "grid_area": null,
      "grid_auto_columns": null,
      "grid_auto_flow": null,
      "grid_auto_rows": null,
      "grid_column": null,
      "grid_gap": null,
      "grid_row": null,
      "grid_template_areas": null,
      "grid_template_columns": null,
      "grid_template_rows": null,
      "height": null,
      "justify_content": null,
      "justify_items": null,
      "left": null,
      "margin": null,
      "max_height": null,
      "max_width": null,
      "min_height": null,
      "min_width": null,
      "object_fit": null,
      "object_position": null,
      "order": null,
      "overflow": null,
      "overflow_x": null,
      "overflow_y": null,
      "padding": null,
      "right": null,
      "top": null,
      "visibility": null,
      "width": null
     }
    },
    "bbb426c3bdb044a18db147b2ac55468a": {
     "model_module": "@jupyter-widgets/base",
     "model_module_version": "1.2.0",
     "model_name": "LayoutModel",
     "state": {
      "_model_module": "@jupyter-widgets/base",
      "_model_module_version": "1.2.0",
      "_model_name": "LayoutModel",
      "_view_count": null,
      "_view_module": "@jupyter-widgets/base",
      "_view_module_version": "1.2.0",
      "_view_name": "LayoutView",
      "align_content": null,
      "align_items": null,
      "align_self": null,
      "border": null,
      "bottom": null,
      "display": null,
      "flex": null,
      "flex_flow": null,
      "grid_area": null,
      "grid_auto_columns": null,
      "grid_auto_flow": null,
      "grid_auto_rows": null,
      "grid_column": null,
      "grid_gap": null,
      "grid_row": null,
      "grid_template_areas": null,
      "grid_template_columns": null,
      "grid_template_rows": null,
      "height": null,
      "justify_content": null,
      "justify_items": null,
      "left": null,
      "margin": null,
      "max_height": null,
      "max_width": null,
      "min_height": null,
      "min_width": null,
      "object_fit": null,
      "object_position": null,
      "order": null,
      "overflow": null,
      "overflow_x": null,
      "overflow_y": null,
      "padding": null,
      "right": null,
      "top": null,
      "visibility": null,
      "width": null
     }
    },
    "c726b5717acf41af92568d8d62bd4f6e": {
     "model_module": "@jupyter-widgets/controls",
     "model_module_version": "1.5.0",
     "model_name": "DescriptionStyleModel",
     "state": {
      "_model_module": "@jupyter-widgets/controls",
      "_model_module_version": "1.5.0",
      "_model_name": "DescriptionStyleModel",
      "_view_count": null,
      "_view_module": "@jupyter-widgets/base",
      "_view_module_version": "1.2.0",
      "_view_name": "StyleView",
      "description_width": ""
     }
    },
    "d96498341bbd4aa39f69129dfa99d180": {
     "model_module": "@jupyter-widgets/controls",
     "model_module_version": "1.5.0",
     "model_name": "HTMLModel",
     "state": {
      "_dom_classes": [],
      "_model_module": "@jupyter-widgets/controls",
      "_model_module_version": "1.5.0",
      "_model_name": "HTMLModel",
      "_view_count": null,
      "_view_module": "@jupyter-widgets/controls",
      "_view_module_version": "1.5.0",
      "_view_name": "HTMLView",
      "description": "",
      "description_tooltip": null,
      "layout": "IPY_MODEL_b9e7e7372689462db7935c90083fee9d",
      "placeholder": "​",
      "style": "IPY_MODEL_8aced2ada4c34b9cbd6f4b7c770d59ea",
      "value": "100%"
     }
    },
    "e4848f667b1f4f0287f09e79f37495f9": {
     "model_module": "@jupyter-widgets/controls",
     "model_module_version": "1.5.0",
     "model_name": "HBoxModel",
     "state": {
      "_dom_classes": [],
      "_model_module": "@jupyter-widgets/controls",
      "_model_module_version": "1.5.0",
      "_model_name": "HBoxModel",
      "_view_count": null,
      "_view_module": "@jupyter-widgets/controls",
      "_view_module_version": "1.5.0",
      "_view_name": "HBoxView",
      "box_style": "",
      "children": [
       "IPY_MODEL_d96498341bbd4aa39f69129dfa99d180",
       "IPY_MODEL_3b584b22cb984d9aaaf836801e9aab18",
       "IPY_MODEL_a0c9634f602943e481025cfcbff78c62"
      ],
      "layout": "IPY_MODEL_ef9335d76df64cb38796597433952a06"
     }
    },
    "ef9335d76df64cb38796597433952a06": {
     "model_module": "@jupyter-widgets/base",
     "model_module_version": "1.2.0",
     "model_name": "LayoutModel",
     "state": {
      "_model_module": "@jupyter-widgets/base",
      "_model_module_version": "1.2.0",
      "_model_name": "LayoutModel",
      "_view_count": null,
      "_view_module": "@jupyter-widgets/base",
      "_view_module_version": "1.2.0",
      "_view_name": "LayoutView",
      "align_content": null,
      "align_items": null,
      "align_self": null,
      "border": null,
      "bottom": null,
      "display": null,
      "flex": null,
      "flex_flow": null,
      "grid_area": null,
      "grid_auto_columns": null,
      "grid_auto_flow": null,
      "grid_auto_rows": null,
      "grid_column": null,
      "grid_gap": null,
      "grid_row": null,
      "grid_template_areas": null,
      "grid_template_columns": null,
      "grid_template_rows": null,
      "height": null,
      "justify_content": null,
      "justify_items": null,
      "left": null,
      "margin": null,
      "max_height": null,
      "max_width": null,
      "min_height": null,
      "min_width": null,
      "object_fit": null,
      "object_position": null,
      "order": null,
      "overflow": null,
      "overflow_x": null,
      "overflow_y": null,
      "padding": null,
      "right": null,
      "top": null,
      "visibility": null,
      "width": null
     }
    }
   }
  }
 },
 "nbformat": 4,
 "nbformat_minor": 1
}
